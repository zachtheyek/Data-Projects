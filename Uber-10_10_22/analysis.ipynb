{
 "cells": [
  {
   "cell_type": "code",
   "execution_count": 1,
   "metadata": {},
   "outputs": [],
   "source": [
    "%matplotlib inline"
   ]
  },
  {
   "cell_type": "markdown",
   "metadata": {},
   "source": [
    "# Import Dependencies"
   ]
  },
  {
   "cell_type": "code",
   "execution_count": 2,
   "metadata": {},
   "outputs": [],
   "source": [
    "# Data analysis\n",
    "import pandas as pd\n",
    "import numpy as np\n",
    "# Data visualization\n",
    "import matplotlib.pyplot as plt\n",
    "import seaborn as sns\n",
    "sns.set()"
   ]
  },
  {
   "cell_type": "markdown",
   "metadata": {},
   "source": [
    "# Data Exploration"
   ]
  },
  {
   "cell_type": "code",
   "execution_count": 3,
   "metadata": {},
   "outputs": [
    {
     "data": {
      "text/html": [
       "<div>\n",
       "<style scoped>\n",
       "    .dataframe tbody tr th:only-of-type {\n",
       "        vertical-align: middle;\n",
       "    }\n",
       "\n",
       "    .dataframe tbody tr th {\n",
       "        vertical-align: top;\n",
       "    }\n",
       "\n",
       "    .dataframe thead th {\n",
       "        text-align: right;\n",
       "    }\n",
       "</style>\n",
       "<table border=\"1\" class=\"dataframe\">\n",
       "  <thead>\n",
       "    <tr style=\"text-align: right;\">\n",
       "      <th></th>\n",
       "      <th>Date</th>\n",
       "      <th>Time (Local)</th>\n",
       "      <th>Eyeballs</th>\n",
       "      <th>Zeroes</th>\n",
       "      <th>Completed Trips</th>\n",
       "      <th>Requests</th>\n",
       "      <th>Unique Drivers</th>\n",
       "    </tr>\n",
       "  </thead>\n",
       "  <tbody>\n",
       "    <tr>\n",
       "      <th>0</th>\n",
       "      <td>10-Sep-12</td>\n",
       "      <td>7</td>\n",
       "      <td>5</td>\n",
       "      <td>0</td>\n",
       "      <td>2</td>\n",
       "      <td>2</td>\n",
       "      <td>9</td>\n",
       "    </tr>\n",
       "    <tr>\n",
       "      <th>1</th>\n",
       "      <td>NaN</td>\n",
       "      <td>8</td>\n",
       "      <td>6</td>\n",
       "      <td>0</td>\n",
       "      <td>2</td>\n",
       "      <td>2</td>\n",
       "      <td>14</td>\n",
       "    </tr>\n",
       "    <tr>\n",
       "      <th>2</th>\n",
       "      <td>NaN</td>\n",
       "      <td>9</td>\n",
       "      <td>8</td>\n",
       "      <td>3</td>\n",
       "      <td>0</td>\n",
       "      <td>0</td>\n",
       "      <td>14</td>\n",
       "    </tr>\n",
       "    <tr>\n",
       "      <th>3</th>\n",
       "      <td>NaN</td>\n",
       "      <td>10</td>\n",
       "      <td>9</td>\n",
       "      <td>2</td>\n",
       "      <td>0</td>\n",
       "      <td>1</td>\n",
       "      <td>14</td>\n",
       "    </tr>\n",
       "    <tr>\n",
       "      <th>4</th>\n",
       "      <td>NaN</td>\n",
       "      <td>11</td>\n",
       "      <td>11</td>\n",
       "      <td>1</td>\n",
       "      <td>4</td>\n",
       "      <td>4</td>\n",
       "      <td>11</td>\n",
       "    </tr>\n",
       "  </tbody>\n",
       "</table>\n",
       "</div>"
      ],
      "text/plain": [
       "        Date  Time (Local)  Eyeballs   Zeroes   Completed Trips   Requests   \\\n",
       "0  10-Sep-12             7          5        0                 2          2   \n",
       "1        NaN             8          6        0                 2          2   \n",
       "2        NaN             9          8        3                 0          0   \n",
       "3        NaN            10          9        2                 0          1   \n",
       "4        NaN            11         11        1                 4          4   \n",
       "\n",
       "   Unique Drivers  \n",
       "0               9  \n",
       "1              14  \n",
       "2              14  \n",
       "3              14  \n",
       "4              11  "
      ]
     },
     "execution_count": 3,
     "metadata": {},
     "output_type": "execute_result"
    }
   ],
   "source": [
    "df = pd.read_csv('dataset_1.csv')\n",
    "df.head()"
   ]
  },
  {
   "cell_type": "markdown",
   "metadata": {},
   "source": [
    "Forward fill the date column to handle missing values."
   ]
  },
  {
   "cell_type": "code",
   "execution_count": 4,
   "metadata": {},
   "outputs": [
    {
     "data": {
      "text/html": [
       "<div>\n",
       "<style scoped>\n",
       "    .dataframe tbody tr th:only-of-type {\n",
       "        vertical-align: middle;\n",
       "    }\n",
       "\n",
       "    .dataframe tbody tr th {\n",
       "        vertical-align: top;\n",
       "    }\n",
       "\n",
       "    .dataframe thead th {\n",
       "        text-align: right;\n",
       "    }\n",
       "</style>\n",
       "<table border=\"1\" class=\"dataframe\">\n",
       "  <thead>\n",
       "    <tr style=\"text-align: right;\">\n",
       "      <th></th>\n",
       "      <th>Date</th>\n",
       "      <th>Time (Local)</th>\n",
       "      <th>Eyeballs</th>\n",
       "      <th>Zeroes</th>\n",
       "      <th>Completed Trips</th>\n",
       "      <th>Requests</th>\n",
       "      <th>Unique Drivers</th>\n",
       "    </tr>\n",
       "  </thead>\n",
       "  <tbody>\n",
       "    <tr>\n",
       "      <th>0</th>\n",
       "      <td>10-Sep-12</td>\n",
       "      <td>7</td>\n",
       "      <td>5</td>\n",
       "      <td>0</td>\n",
       "      <td>2</td>\n",
       "      <td>2</td>\n",
       "      <td>9</td>\n",
       "    </tr>\n",
       "    <tr>\n",
       "      <th>1</th>\n",
       "      <td>10-Sep-12</td>\n",
       "      <td>8</td>\n",
       "      <td>6</td>\n",
       "      <td>0</td>\n",
       "      <td>2</td>\n",
       "      <td>2</td>\n",
       "      <td>14</td>\n",
       "    </tr>\n",
       "    <tr>\n",
       "      <th>2</th>\n",
       "      <td>10-Sep-12</td>\n",
       "      <td>9</td>\n",
       "      <td>8</td>\n",
       "      <td>3</td>\n",
       "      <td>0</td>\n",
       "      <td>0</td>\n",
       "      <td>14</td>\n",
       "    </tr>\n",
       "    <tr>\n",
       "      <th>3</th>\n",
       "      <td>10-Sep-12</td>\n",
       "      <td>10</td>\n",
       "      <td>9</td>\n",
       "      <td>2</td>\n",
       "      <td>0</td>\n",
       "      <td>1</td>\n",
       "      <td>14</td>\n",
       "    </tr>\n",
       "    <tr>\n",
       "      <th>4</th>\n",
       "      <td>10-Sep-12</td>\n",
       "      <td>11</td>\n",
       "      <td>11</td>\n",
       "      <td>1</td>\n",
       "      <td>4</td>\n",
       "      <td>4</td>\n",
       "      <td>11</td>\n",
       "    </tr>\n",
       "  </tbody>\n",
       "</table>\n",
       "</div>"
      ],
      "text/plain": [
       "        Date  Time (Local)  Eyeballs   Zeroes   Completed Trips   Requests   \\\n",
       "0  10-Sep-12             7          5        0                 2          2   \n",
       "1  10-Sep-12             8          6        0                 2          2   \n",
       "2  10-Sep-12             9          8        3                 0          0   \n",
       "3  10-Sep-12            10          9        2                 0          1   \n",
       "4  10-Sep-12            11         11        1                 4          4   \n",
       "\n",
       "   Unique Drivers  \n",
       "0               9  \n",
       "1              14  \n",
       "2              14  \n",
       "3              14  \n",
       "4              11  "
      ]
     },
     "execution_count": 4,
     "metadata": {},
     "output_type": "execute_result"
    }
   ],
   "source": [
    "df['Date'].fillna(method='ffill', inplace=True)\n",
    "df.head()"
   ]
  },
  {
   "cell_type": "markdown",
   "metadata": {},
   "source": [
    "Next, convert the date column to `datetime` by manually specifying the right string format."
   ]
  },
  {
   "cell_type": "code",
   "execution_count": 5,
   "metadata": {},
   "outputs": [
    {
     "data": {
      "text/plain": [
       "array(['10-Sep-12', '11-Sep-12', '12-Sep-12', '13-Sep-12', '14-Sep-12',\n",
       "       '15-Sep-12', '16-Sep-12', '17-Sep-12', '18-Sep-12', '19-Sep-12',\n",
       "       '20-Sep-12', '21-Sep-12', '22-Sep-12', '23-Sep-12', '24-Sep-12'],\n",
       "      dtype=object)"
      ]
     },
     "execution_count": 5,
     "metadata": {},
     "output_type": "execute_result"
    }
   ],
   "source": [
    "df['Date'].unique()"
   ]
  },
  {
   "cell_type": "code",
   "execution_count": 6,
   "metadata": {},
   "outputs": [
    {
     "data": {
      "text/html": [
       "<div>\n",
       "<style scoped>\n",
       "    .dataframe tbody tr th:only-of-type {\n",
       "        vertical-align: middle;\n",
       "    }\n",
       "\n",
       "    .dataframe tbody tr th {\n",
       "        vertical-align: top;\n",
       "    }\n",
       "\n",
       "    .dataframe thead th {\n",
       "        text-align: right;\n",
       "    }\n",
       "</style>\n",
       "<table border=\"1\" class=\"dataframe\">\n",
       "  <thead>\n",
       "    <tr style=\"text-align: right;\">\n",
       "      <th></th>\n",
       "      <th>Date</th>\n",
       "      <th>Time (Local)</th>\n",
       "      <th>Eyeballs</th>\n",
       "      <th>Zeroes</th>\n",
       "      <th>Completed Trips</th>\n",
       "      <th>Requests</th>\n",
       "      <th>Unique Drivers</th>\n",
       "    </tr>\n",
       "  </thead>\n",
       "  <tbody>\n",
       "    <tr>\n",
       "      <th>0</th>\n",
       "      <td>2012-09-10</td>\n",
       "      <td>7</td>\n",
       "      <td>5</td>\n",
       "      <td>0</td>\n",
       "      <td>2</td>\n",
       "      <td>2</td>\n",
       "      <td>9</td>\n",
       "    </tr>\n",
       "    <tr>\n",
       "      <th>1</th>\n",
       "      <td>2012-09-10</td>\n",
       "      <td>8</td>\n",
       "      <td>6</td>\n",
       "      <td>0</td>\n",
       "      <td>2</td>\n",
       "      <td>2</td>\n",
       "      <td>14</td>\n",
       "    </tr>\n",
       "    <tr>\n",
       "      <th>2</th>\n",
       "      <td>2012-09-10</td>\n",
       "      <td>9</td>\n",
       "      <td>8</td>\n",
       "      <td>3</td>\n",
       "      <td>0</td>\n",
       "      <td>0</td>\n",
       "      <td>14</td>\n",
       "    </tr>\n",
       "    <tr>\n",
       "      <th>3</th>\n",
       "      <td>2012-09-10</td>\n",
       "      <td>10</td>\n",
       "      <td>9</td>\n",
       "      <td>2</td>\n",
       "      <td>0</td>\n",
       "      <td>1</td>\n",
       "      <td>14</td>\n",
       "    </tr>\n",
       "    <tr>\n",
       "      <th>4</th>\n",
       "      <td>2012-09-10</td>\n",
       "      <td>11</td>\n",
       "      <td>11</td>\n",
       "      <td>1</td>\n",
       "      <td>4</td>\n",
       "      <td>4</td>\n",
       "      <td>11</td>\n",
       "    </tr>\n",
       "  </tbody>\n",
       "</table>\n",
       "</div>"
      ],
      "text/plain": [
       "        Date  Time (Local)  Eyeballs   Zeroes   Completed Trips   Requests   \\\n",
       "0 2012-09-10             7          5        0                 2          2   \n",
       "1 2012-09-10             8          6        0                 2          2   \n",
       "2 2012-09-10             9          8        3                 0          0   \n",
       "3 2012-09-10            10          9        2                 0          1   \n",
       "4 2012-09-10            11         11        1                 4          4   \n",
       "\n",
       "   Unique Drivers  \n",
       "0               9  \n",
       "1              14  \n",
       "2              14  \n",
       "3              14  \n",
       "4              11  "
      ]
     },
     "execution_count": 6,
     "metadata": {},
     "output_type": "execute_result"
    }
   ],
   "source": [
    "df['Date'] = pd.to_datetime(df['Date'], format='%d-%b-%y')\n",
    "df.head()"
   ]
  },
  {
   "cell_type": "code",
   "execution_count": 7,
   "metadata": {},
   "outputs": [
    {
     "name": "stdout",
     "output_type": "stream",
     "text": [
      "<class 'pandas.core.frame.DataFrame'>\n",
      "RangeIndex: 336 entries, 0 to 335\n",
      "Data columns (total 7 columns):\n",
      " #   Column            Non-Null Count  Dtype         \n",
      "---  ------            --------------  -----         \n",
      " 0   Date              336 non-null    datetime64[ns]\n",
      " 1   Time (Local)      336 non-null    int64         \n",
      " 2   Eyeballs          336 non-null    int64         \n",
      " 3   Zeroes            336 non-null    int64         \n",
      " 4   Completed Trips   336 non-null    int64         \n",
      " 5   Requests          336 non-null    int64         \n",
      " 6   Unique Drivers    336 non-null    int64         \n",
      "dtypes: datetime64[ns](1), int64(6)\n",
      "memory usage: 18.5 KB\n"
     ]
    }
   ],
   "source": [
    "df.info()"
   ]
  },
  {
   "cell_type": "markdown",
   "metadata": {},
   "source": [
    "Finally, handle the data entry errors by striping leading/trailing white spaces in the column names."
   ]
  },
  {
   "cell_type": "code",
   "execution_count": 8,
   "metadata": {},
   "outputs": [
    {
     "data": {
      "text/plain": [
       "Index(['Date', 'Time (Local)', 'Eyeballs ', 'Zeroes ', 'Completed Trips ',\n",
       "       'Requests ', 'Unique Drivers'],\n",
       "      dtype='object')"
      ]
     },
     "execution_count": 8,
     "metadata": {},
     "output_type": "execute_result"
    }
   ],
   "source": [
    "df.columns"
   ]
  },
  {
   "cell_type": "code",
   "execution_count": 9,
   "metadata": {},
   "outputs": [],
   "source": [
    "df.columns = df.columns.str.strip()"
   ]
  },
  {
   "cell_type": "markdown",
   "metadata": {},
   "source": [
    "### 1. Which date had the most completed trips during the two week period?"
   ]
  },
  {
   "cell_type": "code",
   "execution_count": 10,
   "metadata": {},
   "outputs": [
    {
     "data": {
      "text/plain": [
       "Date\n",
       "2012-09-10     26\n",
       "2012-09-11     40\n",
       "2012-09-12     91\n",
       "2012-09-13     45\n",
       "2012-09-14    108\n",
       "2012-09-15    199\n",
       "2012-09-16     93\n",
       "2012-09-17     57\n",
       "2012-09-18     42\n",
       "2012-09-19     41\n",
       "2012-09-20     70\n",
       "2012-09-21    190\n",
       "2012-09-22    248\n",
       "2012-09-23    111\n",
       "2012-09-24      4\n",
       "Name: Completed Trips, dtype: int64"
      ]
     },
     "execution_count": 10,
     "metadata": {},
     "output_type": "execute_result"
    }
   ],
   "source": [
    "df_1 = df.groupby(['Date'])['Completed Trips'].sum()\n",
    "df_1"
   ]
  },
  {
   "cell_type": "code",
   "execution_count": 11,
   "metadata": {},
   "outputs": [
    {
     "data": {
      "text/plain": [
       "Date\n",
       "2012-09-22    248\n",
       "Name: Completed Trips, dtype: int64"
      ]
     },
     "execution_count": 11,
     "metadata": {},
     "output_type": "execute_result"
    }
   ],
   "source": [
    "df_1[df_1 == df_1.max()]"
   ]
  },
  {
   "cell_type": "markdown",
   "metadata": {},
   "source": [
    "Answer: September 22, 2012"
   ]
  },
  {
   "cell_type": "markdown",
   "metadata": {},
   "source": [
    "### What was the highest number of completed trips within a 24 hour period?"
   ]
  },
  {
   "cell_type": "code",
   "execution_count": 28,
   "metadata": {},
   "outputs": [
    {
     "data": {
      "text/plain": [
       "0       NaN\n",
       "1       NaN\n",
       "2       NaN\n",
       "3       NaN\n",
       "4       NaN\n",
       "       ... \n",
       "331    61.0\n",
       "332    52.0\n",
       "333    52.0\n",
       "334    53.0\n",
       "335    54.0\n",
       "Name: Completed Trips, Length: 336, dtype: float64"
      ]
     },
     "execution_count": 28,
     "metadata": {},
     "output_type": "execute_result"
    }
   ],
   "source": [
    "df_2 = df['Completed Trips'].rolling(24).sum()\n",
    "df_2"
   ]
  },
  {
   "cell_type": "code",
   "execution_count": 29,
   "metadata": {},
   "outputs": [
    {
     "data": {
      "text/plain": [
       "278.0"
      ]
     },
     "execution_count": 29,
     "metadata": {},
     "output_type": "execute_result"
    }
   ],
   "source": [
    "df_2.max()"
   ]
  },
  {
   "cell_type": "markdown",
   "metadata": {},
   "source": [
    "Answer: 278"
   ]
  },
  {
   "cell_type": "markdown",
   "metadata": {},
   "source": [
    "### Which hour of the day had the most requests during the two week period?"
   ]
  },
  {
   "cell_type": "code",
   "execution_count": 14,
   "metadata": {},
   "outputs": [
    {
     "data": {
      "text/plain": [
       "Time (Local)\n",
       "0     142\n",
       "1      96\n",
       "2     100\n",
       "3      35\n",
       "4       9\n",
       "5      14\n",
       "6      28\n",
       "7      22\n",
       "8      29\n",
       "9      26\n",
       "10     28\n",
       "11     47\n",
       "12     53\n",
       "13     55\n",
       "14     71\n",
       "15     71\n",
       "16     82\n",
       "17     98\n",
       "18    119\n",
       "19    156\n",
       "20    107\n",
       "21    112\n",
       "22    174\n",
       "23    184\n",
       "Name: Requests, dtype: int64"
      ]
     },
     "execution_count": 14,
     "metadata": {},
     "output_type": "execute_result"
    }
   ],
   "source": [
    "df_3 = df.groupby(['Time (Local)'])['Requests'].sum()\n",
    "df_3"
   ]
  },
  {
   "cell_type": "code",
   "execution_count": 15,
   "metadata": {},
   "outputs": [
    {
     "data": {
      "text/plain": [
       "Time (Local)\n",
       "23    184\n",
       "Name: Requests, dtype: int64"
      ]
     },
     "execution_count": 15,
     "metadata": {},
     "output_type": "execute_result"
    }
   ],
   "source": [
    "df_3[df_3 == df_3.max()]"
   ]
  },
  {
   "cell_type": "markdown",
   "metadata": {},
   "source": [
    "Answer: 2300 - 0000"
   ]
  },
  {
   "cell_type": "markdown",
   "metadata": {},
   "source": [
    "### What percentages of all zeroes during the two week period occurred on weekend (Friday at 5 pm to Sunday at 3 am)? \n",
    "\n",
    "Tip: The local time value is the start of the hour (e.g. 15 is the hour from 3:00pm - 4:00pm)"
   ]
  },
  {
   "cell_type": "code",
   "execution_count": 30,
   "metadata": {},
   "outputs": [
    {
     "name": "stdout",
     "output_type": "stream",
     "text": [
      "44.86%\n"
     ]
    }
   ],
   "source": [
    "df_4 = df.copy()\n",
    "df_4['Day'] = pd.to_datetime(df_4['Date']).dt.dayofweek\n",
    "\n",
    "weekend_zeroes = df_4[(((df_4['Day'] == 4) & (df_4['Time (Local)'] >= 17))\n",
    "                        | (df_4['Day'] == 5) \n",
    "                        | ((df_4['Day'] == 6) & (df_4['Time (Local)'] <= 2)))]['Zeroes'].sum()\n",
    "total_zeroes = df_4['Zeroes'].sum()\n",
    "\n",
    "print(f'{weekend_zeroes / total_zeroes * 100:.2f}%')"
   ]
  },
  {
   "cell_type": "markdown",
   "metadata": {},
   "source": [
    "Answer: 44.86%"
   ]
  },
  {
   "cell_type": "markdown",
   "metadata": {},
   "source": [
    "### What is the weighted average ratio of completed trips per driver during the two week period? \n",
    "\n",
    "Tip: \"Weighted average\" means your answer should account for the total trip volume in each hour to determine the most accurate number in whole period."
   ]
  },
  {
   "cell_type": "code",
   "execution_count": 19,
   "metadata": {},
   "outputs": [
    {
     "name": "stdout",
     "output_type": "stream",
     "text": [
      "0.002788813372084982\n"
     ]
    }
   ],
   "source": [
    "df_5 = df.copy()\n",
    "# Remove rows where unique drivers = 0\n",
    "df_5 = df_5.loc[df_5['Unique Drivers'] > 0]\n",
    "# Find completed trips per driver for each hour\n",
    "df_5['Completed Trips per Driver'] = df_5['Completed Trips'] / df_5['Unique Drivers']\n",
    "# Compute weights (percentage of completed trips) for each hour\n",
    "df_5['Percentage of Completed Trips'] = df_5['Completed Trips'] / df_5['Completed Trips'].sum()\n",
    "# Get weighted average\n",
    "print(np.average(df_5['Completed Trips per Driver'] * df_5['Percentage of Completed Trips']))"
   ]
  },
  {
   "cell_type": "code",
   "execution_count": 20,
   "metadata": {},
   "outputs": [
    {
     "name": "stdout",
     "output_type": "stream",
     "text": [
      "0.4743397876937869\n"
     ]
    }
   ],
   "source": [
    "# Verify that the weighted average is different from the average\n",
    "print(np.average(df_5['Completed Trips per Driver']))"
   ]
  },
  {
   "cell_type": "markdown",
   "metadata": {},
   "source": [
    "Answer: 0.0028 completed trips per driver"
   ]
  },
  {
   "cell_type": "markdown",
   "metadata": {},
   "source": [
    "### In drafting a driver schedule in terms of 8 hours shifts, when are the busiest 8 consecutive hours over the two week period in terms of unique requests? A new shift starts in every 8 hours. Assume that a driver will work same shift each day."
   ]
  },
  {
   "cell_type": "code",
   "execution_count": 21,
   "metadata": {},
   "outputs": [
    {
     "data": {
      "text/plain": [
       "Time (Local)\n",
       "0    1092.0\n",
       "Name: Requests, dtype: float64"
      ]
     },
     "execution_count": 21,
     "metadata": {},
     "output_type": "execute_result"
    }
   ],
   "source": [
    "# Find total unique requests for each hour across 2 week period\n",
    "df_6 = df.groupby(['Time (Local)'])['Requests'].sum()\n",
    "# Calculate rolling 8 hour sum of total requests\n",
    "df_6 = pd.concat([df_6[17:], df_6], axis=0)\n",
    "df_6 = df_6.rolling(8).sum()\n",
    "# Find window where rolling sum is maximized (shift starts 7 hours before indexed time)\n",
    "df_6[df_6 == df_6.max()]"
   ]
  },
  {
   "cell_type": "markdown",
   "metadata": {},
   "source": [
    "Answer: 1700 - 0100"
   ]
  },
  {
   "cell_type": "markdown",
   "metadata": {},
   "source": [
    "### True or False: Driver supply always increases when demand increases during the two week period. \n",
    "\n",
    "Tip: Visualize the data to confirm your answer if needed."
   ]
  },
  {
   "cell_type": "code",
   "execution_count": 22,
   "metadata": {},
   "outputs": [
    {
     "data": {
      "text/html": [
       "<div>\n",
       "<style scoped>\n",
       "    .dataframe tbody tr th:only-of-type {\n",
       "        vertical-align: middle;\n",
       "    }\n",
       "\n",
       "    .dataframe tbody tr th {\n",
       "        vertical-align: top;\n",
       "    }\n",
       "\n",
       "    .dataframe thead th {\n",
       "        text-align: right;\n",
       "    }\n",
       "</style>\n",
       "<table border=\"1\" class=\"dataframe\">\n",
       "  <thead>\n",
       "    <tr style=\"text-align: right;\">\n",
       "      <th></th>\n",
       "      <th>Date</th>\n",
       "      <th>Time (Local)</th>\n",
       "      <th>Eyeballs</th>\n",
       "      <th>Zeroes</th>\n",
       "      <th>Completed Trips</th>\n",
       "      <th>Requests</th>\n",
       "      <th>Unique Drivers</th>\n",
       "      <th>Delta Requests</th>\n",
       "      <th>Delta Drivers</th>\n",
       "    </tr>\n",
       "  </thead>\n",
       "  <tbody>\n",
       "    <tr>\n",
       "      <th>1</th>\n",
       "      <td>2012-09-10</td>\n",
       "      <td>8</td>\n",
       "      <td>6</td>\n",
       "      <td>0</td>\n",
       "      <td>2</td>\n",
       "      <td>2</td>\n",
       "      <td>14</td>\n",
       "      <td>0.0</td>\n",
       "      <td>5.0</td>\n",
       "    </tr>\n",
       "    <tr>\n",
       "      <th>2</th>\n",
       "      <td>2012-09-10</td>\n",
       "      <td>9</td>\n",
       "      <td>8</td>\n",
       "      <td>3</td>\n",
       "      <td>0</td>\n",
       "      <td>0</td>\n",
       "      <td>14</td>\n",
       "      <td>-2.0</td>\n",
       "      <td>0.0</td>\n",
       "    </tr>\n",
       "    <tr>\n",
       "      <th>3</th>\n",
       "      <td>2012-09-10</td>\n",
       "      <td>10</td>\n",
       "      <td>9</td>\n",
       "      <td>2</td>\n",
       "      <td>0</td>\n",
       "      <td>1</td>\n",
       "      <td>14</td>\n",
       "      <td>1.0</td>\n",
       "      <td>0.0</td>\n",
       "    </tr>\n",
       "    <tr>\n",
       "      <th>4</th>\n",
       "      <td>2012-09-10</td>\n",
       "      <td>11</td>\n",
       "      <td>11</td>\n",
       "      <td>1</td>\n",
       "      <td>4</td>\n",
       "      <td>4</td>\n",
       "      <td>11</td>\n",
       "      <td>3.0</td>\n",
       "      <td>-3.0</td>\n",
       "    </tr>\n",
       "    <tr>\n",
       "      <th>5</th>\n",
       "      <td>2012-09-10</td>\n",
       "      <td>12</td>\n",
       "      <td>12</td>\n",
       "      <td>0</td>\n",
       "      <td>2</td>\n",
       "      <td>2</td>\n",
       "      <td>11</td>\n",
       "      <td>-2.0</td>\n",
       "      <td>0.0</td>\n",
       "    </tr>\n",
       "    <tr>\n",
       "      <th>...</th>\n",
       "      <td>...</td>\n",
       "      <td>...</td>\n",
       "      <td>...</td>\n",
       "      <td>...</td>\n",
       "      <td>...</td>\n",
       "      <td>...</td>\n",
       "      <td>...</td>\n",
       "      <td>...</td>\n",
       "      <td>...</td>\n",
       "    </tr>\n",
       "    <tr>\n",
       "      <th>331</th>\n",
       "      <td>2012-09-24</td>\n",
       "      <td>2</td>\n",
       "      <td>3</td>\n",
       "      <td>3</td>\n",
       "      <td>0</td>\n",
       "      <td>2</td>\n",
       "      <td>0</td>\n",
       "      <td>2.0</td>\n",
       "      <td>0.0</td>\n",
       "    </tr>\n",
       "    <tr>\n",
       "      <th>332</th>\n",
       "      <td>2012-09-24</td>\n",
       "      <td>3</td>\n",
       "      <td>3</td>\n",
       "      <td>3</td>\n",
       "      <td>0</td>\n",
       "      <td>1</td>\n",
       "      <td>0</td>\n",
       "      <td>-1.0</td>\n",
       "      <td>0.0</td>\n",
       "    </tr>\n",
       "    <tr>\n",
       "      <th>333</th>\n",
       "      <td>2012-09-24</td>\n",
       "      <td>4</td>\n",
       "      <td>1</td>\n",
       "      <td>1</td>\n",
       "      <td>0</td>\n",
       "      <td>0</td>\n",
       "      <td>0</td>\n",
       "      <td>-1.0</td>\n",
       "      <td>0.0</td>\n",
       "    </tr>\n",
       "    <tr>\n",
       "      <th>334</th>\n",
       "      <td>2012-09-24</td>\n",
       "      <td>5</td>\n",
       "      <td>4</td>\n",
       "      <td>2</td>\n",
       "      <td>1</td>\n",
       "      <td>1</td>\n",
       "      <td>3</td>\n",
       "      <td>1.0</td>\n",
       "      <td>3.0</td>\n",
       "    </tr>\n",
       "    <tr>\n",
       "      <th>335</th>\n",
       "      <td>2012-09-24</td>\n",
       "      <td>6</td>\n",
       "      <td>9</td>\n",
       "      <td>1</td>\n",
       "      <td>2</td>\n",
       "      <td>2</td>\n",
       "      <td>7</td>\n",
       "      <td>1.0</td>\n",
       "      <td>4.0</td>\n",
       "    </tr>\n",
       "  </tbody>\n",
       "</table>\n",
       "<p>335 rows × 9 columns</p>\n",
       "</div>"
      ],
      "text/plain": [
       "          Date  Time (Local)  Eyeballs  Zeroes  Completed Trips  Requests  \\\n",
       "1   2012-09-10             8         6       0                2         2   \n",
       "2   2012-09-10             9         8       3                0         0   \n",
       "3   2012-09-10            10         9       2                0         1   \n",
       "4   2012-09-10            11        11       1                4         4   \n",
       "5   2012-09-10            12        12       0                2         2   \n",
       "..         ...           ...       ...     ...              ...       ...   \n",
       "331 2012-09-24             2         3       3                0         2   \n",
       "332 2012-09-24             3         3       3                0         1   \n",
       "333 2012-09-24             4         1       1                0         0   \n",
       "334 2012-09-24             5         4       2                1         1   \n",
       "335 2012-09-24             6         9       1                2         2   \n",
       "\n",
       "     Unique Drivers  Delta Requests  Delta Drivers  \n",
       "1                14             0.0            5.0  \n",
       "2                14            -2.0            0.0  \n",
       "3                14             1.0            0.0  \n",
       "4                11             3.0           -3.0  \n",
       "5                11            -2.0            0.0  \n",
       "..              ...             ...            ...  \n",
       "331               0             2.0            0.0  \n",
       "332               0            -1.0            0.0  \n",
       "333               0            -1.0            0.0  \n",
       "334               3             1.0            3.0  \n",
       "335               7             1.0            4.0  \n",
       "\n",
       "[335 rows x 9 columns]"
      ]
     },
     "execution_count": 22,
     "metadata": {},
     "output_type": "execute_result"
    }
   ],
   "source": [
    "df_7 = df.copy()\n",
    "df_7['Delta Requests'] = df_7['Requests'].rolling(2).apply(lambda x: x.iloc[1] - x.iloc[0])\n",
    "df_7['Delta Drivers'] = df_7['Unique Drivers'].rolling(2).apply(lambda x: x.iloc[1] - x.iloc[0])\n",
    "df_7.dropna(inplace=True)\n",
    "df_7"
   ]
  },
  {
   "cell_type": "code",
   "execution_count": 23,
   "metadata": {},
   "outputs": [
    {
     "data": {
      "text/plain": [
       "False"
      ]
     },
     "execution_count": 23,
     "metadata": {},
     "output_type": "execute_result"
    }
   ],
   "source": [
    "# Check if demand increases when supply increases\n",
    "(df_7[df_7['Delta Drivers'] > 0]['Delta Requests'] > 0).all()"
   ]
  },
  {
   "cell_type": "code",
   "execution_count": 24,
   "metadata": {},
   "outputs": [
    {
     "data": {
      "image/png": "[encoded data removed]",
      "text/plain": [
       "<Figure size 1200x800 with 1 Axes>"
      ]
     },
     "metadata": {},
     "output_type": "display_data"
    }
   ],
   "source": [
    "# Verify our answer by visualizing the data\n",
    "df_7['Datetime'] = df_7['Date'].astype(str) + ' : ' + df_7['Time (Local)'].astype(str)\n",
    "# Make plots\n",
    "fig, ax = plt.subplots(1, 1, figsize=(12, 8))\n",
    "ax.plot(df_7['Datetime'], df_7['Unique Drivers'])\n",
    "ax.plot(df_7['Datetime'], df_7['Requests'], linestyle='--')\n",
    "# Create legend\n",
    "ax.legend(['Supply', 'Demand'])\n",
    "# Turn off tick labels\n",
    "ax.set_yticklabels([])\n",
    "ax.set_xticklabels([])\n",
    "\n",
    "plt.show()"
   ]
  },
  {
   "cell_type": "markdown",
   "metadata": {},
   "source": [
    "Answer: False"
   ]
  },
  {
   "cell_type": "markdown",
   "metadata": {},
   "source": [
    "### In which 72 hour period is the ratio of Zeroes to Eyeballs the highest?"
   ]
  },
  {
   "cell_type": "code",
   "execution_count": 25,
   "metadata": {},
   "outputs": [
    {
     "data": {
      "text/html": [
       "<div>\n",
       "<style scoped>\n",
       "    .dataframe tbody tr th:only-of-type {\n",
       "        vertical-align: middle;\n",
       "    }\n",
       "\n",
       "    .dataframe tbody tr th {\n",
       "        vertical-align: top;\n",
       "    }\n",
       "\n",
       "    .dataframe thead th {\n",
       "        text-align: right;\n",
       "    }\n",
       "</style>\n",
       "<table border=\"1\" class=\"dataframe\">\n",
       "  <thead>\n",
       "    <tr style=\"text-align: right;\">\n",
       "      <th></th>\n",
       "      <th></th>\n",
       "      <th>Zeroes</th>\n",
       "      <th>Eyeballs</th>\n",
       "      <th>Zeroes to Eyeballs Ratio</th>\n",
       "    </tr>\n",
       "    <tr>\n",
       "      <th>Date</th>\n",
       "      <th>Time (Local)</th>\n",
       "      <th></th>\n",
       "      <th></th>\n",
       "      <th></th>\n",
       "    </tr>\n",
       "  </thead>\n",
       "  <tbody>\n",
       "    <tr>\n",
       "      <th>2012-09-18</th>\n",
       "      <th>4</th>\n",
       "      <td>438.0</td>\n",
       "      <td>1495.0</td>\n",
       "      <td>0.292977</td>\n",
       "    </tr>\n",
       "  </tbody>\n",
       "</table>\n",
       "</div>"
      ],
      "text/plain": [
       "                         Zeroes  Eyeballs  Zeroes to Eyeballs Ratio\n",
       "Date       Time (Local)                                            \n",
       "2012-09-18 4              438.0    1495.0                  0.292977"
      ]
     },
     "execution_count": 25,
     "metadata": {},
     "output_type": "execute_result"
    }
   ],
   "source": [
    "df_8 = df.copy()\n",
    "df_8.set_index(['Date', 'Time (Local)'], inplace=True)\n",
    "df_8 = df_8[['Zeroes', 'Eyeballs']].rolling(72).sum()\n",
    "df_8.dropna(inplace=True)\n",
    "df_8['Zeroes to Eyeballs Ratio'] = df_8['Zeroes'] / df_8['Eyeballs']\n",
    "df_8[df_8['Zeroes to Eyeballs Ratio'] == df_8['Zeroes to Eyeballs Ratio'].max()]"
   ]
  },
  {
   "cell_type": "markdown",
   "metadata": {},
   "source": [
    "Answer: 2012-09-16 05:00 to 2012-09-18 05:00"
   ]
  },
  {
   "cell_type": "markdown",
   "metadata": {},
   "source": [
    "### If you could add 5 drivers to any single hour of every day during the two week period, which hour should you add them to? \n",
    "\n",
    "Hint: Consider both rider eyeballs and driver supply when choosing"
   ]
  },
  {
   "cell_type": "code",
   "execution_count": 42,
   "metadata": {},
   "outputs": [
    {
     "data": {
      "text/html": [
       "<div>\n",
       "<style scoped>\n",
       "    .dataframe tbody tr th:only-of-type {\n",
       "        vertical-align: middle;\n",
       "    }\n",
       "\n",
       "    .dataframe tbody tr th {\n",
       "        vertical-align: top;\n",
       "    }\n",
       "\n",
       "    .dataframe thead th {\n",
       "        text-align: right;\n",
       "    }\n",
       "</style>\n",
       "<table border=\"1\" class=\"dataframe\">\n",
       "  <thead>\n",
       "    <tr style=\"text-align: right;\">\n",
       "      <th></th>\n",
       "      <th>Eyeballs</th>\n",
       "      <th>Unique Drivers</th>\n",
       "      <th>Drivers per Eyeball</th>\n",
       "    </tr>\n",
       "    <tr>\n",
       "      <th>Time (Local)</th>\n",
       "      <th></th>\n",
       "      <th></th>\n",
       "      <th></th>\n",
       "    </tr>\n",
       "  </thead>\n",
       "  <tbody>\n",
       "    <tr>\n",
       "      <th>23</th>\n",
       "      <td>488</td>\n",
       "      <td>119</td>\n",
       "      <td>0.243852</td>\n",
       "    </tr>\n",
       "  </tbody>\n",
       "</table>\n",
       "</div>"
      ],
      "text/plain": [
       "              Eyeballs  Unique Drivers  Drivers per Eyeball\n",
       "Time (Local)                                               \n",
       "23                 488             119             0.243852"
      ]
     },
     "execution_count": 42,
     "metadata": {},
     "output_type": "execute_result"
    }
   ],
   "source": [
    "# Get total eyeballs and drivers for each hour over 2 weeks\n",
    "df_9 = df.groupby(['Time (Local)'])[['Eyeballs', 'Unique Drivers']].sum()\n",
    "# Remove rows where eyeballs = 0\n",
    "df_9 = df_9[df_9['Eyeballs'] > 0]\n",
    "# Find drivers per eyeball for each hour\n",
    "df_9['Drivers per Eyeball'] = df_9['Unique Drivers'] / df_9['Eyeballs']\n",
    "# Get hour with min value (would gain most from adding 5 drivers)\n",
    "df_9[df_9['Drivers per Eyeball'] == df_9['Drivers per Eyeball'].min()]"
   ]
  },
  {
   "cell_type": "markdown",
   "metadata": {},
   "source": [
    "Answer: 2300 - 0000"
   ]
  },
  {
   "cell_type": "markdown",
   "metadata": {},
   "source": [
    "## True or False: There is exactly two weeks of data in this analysis"
   ]
  },
  {
   "cell_type": "code",
   "execution_count": 26,
   "metadata": {},
   "outputs": [
    {
     "data": {
      "text/plain": [
       "336"
      ]
     },
     "execution_count": 26,
     "metadata": {},
     "output_type": "execute_result"
    }
   ],
   "source": [
    "df_10 = df.copy()\n",
    "df_10['Datetime'] = df['Date'].astype(str) + ' ' + df['Time (Local)'].astype(str)\n",
    "# 24 hrs/day * 14 days = 336 entries\n",
    "len(df_10['Datetime'].unique())"
   ]
  },
  {
   "cell_type": "markdown",
   "metadata": {},
   "source": [
    "Answer: True"
   ]
  },
  {
   "cell_type": "markdown",
   "metadata": {},
   "source": [
    "## Looking at the data from all two weeks, which time might make the most sense to consider a true \"end day\" instead of midnight? (i.e when are supply and demand at both their natural minimums) \n",
    "\n",
    "Tip: Visualize the data to confirm your answer if needed."
   ]
  },
  {
   "cell_type": "code",
   "execution_count": 52,
   "metadata": {},
   "outputs": [
    {
     "data": {
      "text/html": [
       "<div>\n",
       "<style scoped>\n",
       "    .dataframe tbody tr th:only-of-type {\n",
       "        vertical-align: middle;\n",
       "    }\n",
       "\n",
       "    .dataframe tbody tr th {\n",
       "        vertical-align: top;\n",
       "    }\n",
       "\n",
       "    .dataframe thead th {\n",
       "        text-align: right;\n",
       "    }\n",
       "</style>\n",
       "<table border=\"1\" class=\"dataframe\">\n",
       "  <thead>\n",
       "    <tr style=\"text-align: right;\">\n",
       "      <th></th>\n",
       "      <th>Requests</th>\n",
       "      <th>Unique Drivers</th>\n",
       "    </tr>\n",
       "    <tr>\n",
       "      <th>Time (Local)</th>\n",
       "      <th></th>\n",
       "      <th></th>\n",
       "    </tr>\n",
       "  </thead>\n",
       "  <tbody>\n",
       "    <tr>\n",
       "      <th>4</th>\n",
       "      <td>9</td>\n",
       "      <td>9</td>\n",
       "    </tr>\n",
       "  </tbody>\n",
       "</table>\n",
       "</div>"
      ],
      "text/plain": [
       "              Requests  Unique Drivers\n",
       "Time (Local)                          \n",
       "4                    9               9"
      ]
     },
     "execution_count": 52,
     "metadata": {},
     "output_type": "execute_result"
    }
   ],
   "source": [
    "df_11 = df.groupby(['Time (Local)'])[['Requests', 'Unique Drivers']].sum()\n",
    "# Find time where requests are minimized\n",
    "df_11[df_11['Requests'] == df_11['Requests'].min()]"
   ]
  },
  {
   "cell_type": "code",
   "execution_count": 53,
   "metadata": {},
   "outputs": [
    {
     "data": {
      "text/html": [
       "<div>\n",
       "<style scoped>\n",
       "    .dataframe tbody tr th:only-of-type {\n",
       "        vertical-align: middle;\n",
       "    }\n",
       "\n",
       "    .dataframe tbody tr th {\n",
       "        vertical-align: top;\n",
       "    }\n",
       "\n",
       "    .dataframe thead th {\n",
       "        text-align: right;\n",
       "    }\n",
       "</style>\n",
       "<table border=\"1\" class=\"dataframe\">\n",
       "  <thead>\n",
       "    <tr style=\"text-align: right;\">\n",
       "      <th></th>\n",
       "      <th>Requests</th>\n",
       "      <th>Unique Drivers</th>\n",
       "    </tr>\n",
       "    <tr>\n",
       "      <th>Time (Local)</th>\n",
       "      <th></th>\n",
       "      <th></th>\n",
       "    </tr>\n",
       "  </thead>\n",
       "  <tbody>\n",
       "    <tr>\n",
       "      <th>4</th>\n",
       "      <td>9</td>\n",
       "      <td>9</td>\n",
       "    </tr>\n",
       "  </tbody>\n",
       "</table>\n",
       "</div>"
      ],
      "text/plain": [
       "              Requests  Unique Drivers\n",
       "Time (Local)                          \n",
       "4                    9               9"
      ]
     },
     "execution_count": 53,
     "metadata": {},
     "output_type": "execute_result"
    }
   ],
   "source": [
    "# Find time where drivers are minimized\n",
    "df_11[df_11['Unique Drivers'] == df_11['Unique Drivers'].min()]"
   ]
  },
  {
   "cell_type": "code",
   "execution_count": 55,
   "metadata": {},
   "outputs": [
    {
     "data": {
      "image/png": "[encoded data removed]",
      "text/plain": [
       "<Figure size 1200x800 with 1 Axes>"
      ]
     },
     "metadata": {},
     "output_type": "display_data"
    }
   ],
   "source": [
    "# Verify our answer by visualizing the data\n",
    "df_11.reset_index(inplace=True)\n",
    "# Make plots\n",
    "fig, ax = plt.subplots(1, 1, figsize=(12, 8))\n",
    "ax.plot(df_11['Time (Local)'], df_11['Unique Drivers'])\n",
    "ax.plot(df_11['Time (Local)'], df_11['Requests'], linestyle='--')\n",
    "# Create legend\n",
    "ax.legend(['Supply', 'Demand'])\n",
    "\n",
    "plt.show()"
   ]
  },
  {
   "cell_type": "markdown",
   "metadata": {},
   "source": [
    "Answer: 0400"
   ]
  }
 ],
 "metadata": {
  "kernelspec": {
   "display_name": "Python 3.10.6 ('Data-Projects')",
   "language": "python",
   "name": "python3"
  },
  "language_info": {
   "codemirror_mode": {
    "name": "ipython",
    "version": 3
   },
   "file_extension": ".py",
   "mimetype": "text/x-python",
   "name": "python",
   "nbconvert_exporter": "python",
   "pygments_lexer": "ipython3",
   "version": "3.10.6"
  },
  "orig_nbformat": 4,
  "vscode": {
   "interpreter": {
    "hash": "a6e590103dde66fa6b8497908d01668fda2088a5bc2e035fa84d8fe852e213a6"
   }
  }
 },
 "nbformat": 4,
 "nbformat_minor": 2
}
